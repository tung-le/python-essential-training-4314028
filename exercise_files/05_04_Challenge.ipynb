{
 "cells": [
  {
   "cell_type": "markdown",
   "id": "3d331168",
   "metadata": {},
   "source": [
    "## Faster Prime Finding\n",
    "\n",
    "Write a function that returns a list of all primes up to a given number.\n",
    "\n",
    "For each number, in order to determine if it is prime, take the following steps:\n",
    "1. Find the square root of the number\n",
    "2. Find all the primes up to that square root\n",
    "3. Test to see if any of those primes are divisors \n",
    "\n",
    "If a number has no prime divisors, it is prime!\n"
   ]
  },
  {
   "cell_type": "code",
   "execution_count": null,
   "id": "3623a0e2",
   "metadata": {},
   "outputs": [],
   "source": [
    "def allPrimesUpTo(num):\n",
    "    primes = [2]\n",
    "    for number in range(3,num):\n",
    "        sqrtNum = number**0.5\n",
    "        for factor in primes:\n",
    "            if number % factor == 0:\n",
    "                #Not prime\n",
    "                break\n",
    "            if factor > sqrtNum:\n",
    "                primes.append(number)\n",
    "                break\n",
    "    return primes"
   ]
  },
  {
   "cell_type": "code",
   "execution_count": 3,
   "id": "76e6a11b",
   "metadata": {},
   "outputs": [
    {
     "name": "stdout",
     "output_type": "stream",
     "text": [
      "[2, 3, 5, 7, 11, 13, 17, 19, 23, 29, 31, 37, 41, 43, 47, 53, 59, 61, 67, 71, 73, 79, 83, 89, 97]\n"
     ]
    }
   ],
   "source": [
    "print(allPrimesUpTo(100))"
   ]
  },
  {
   "cell_type": "code",
   "execution_count": 5,
   "id": "53848a3f",
   "metadata": {},
   "outputs": [
    {
     "name": "stdout",
     "output_type": "stream",
     "text": [
      "[2, 3, 5, 7, 11, 13, 17, 19, 23, 29, 31, 37, 41, 43, 47, 53, 59, 61, 67, 71, 73, 79, 83, 89, 97, 101, 103, 107, 109, 113, 127, 131, 137, 139, 149, 151, 157, 163, 167, 173, 179, 181, 191, 193, 197, 199, 211, 223, 227, 229, 233, 239, 241, 251, 257, 263, 269, 271, 277, 281, 283, 293, 307, 311, 313, 317, 331, 337, 347, 349, 353, 359, 367, 373, 379, 383, 389, 397, 401, 409, 419, 421, 431, 433, 439, 443, 449, 457, 461, 463, 467, 479, 487, 491, 499, 503, 509, 521, 523, 541, 547, 557, 563, 569, 571, 577, 587, 593, 599, 601, 607, 613, 617, 619, 631, 641, 643, 647, 653, 659, 661, 673, 677, 683, 691, 701, 709, 719, 727, 733, 739, 743, 751, 757, 761, 769, 773, 787, 797, 809, 811, 821, 823, 827, 829, 839, 853, 857, 859, 863, 877, 881, 883, 887, 907, 911, 919, 929, 937, 941, 947, 953, 967, 971, 977, 983, 991, 997]\n"
     ]
    }
   ],
   "source": [
    "print(allPrimesUpTo(1000))"
   ]
  },
  {
   "cell_type": "code",
   "execution_count": null,
   "id": "33e69550",
   "metadata": {},
   "outputs": [],
   "source": []
  }
 ],
 "metadata": {
  "kernelspec": {
   "display_name": "Python 3 (ipykernel)",
   "language": "python",
   "name": "python3"
  },
  "language_info": {
   "codemirror_mode": {
    "name": "ipython",
    "version": 3
   },
   "file_extension": ".py",
   "mimetype": "text/x-python",
   "name": "python",
   "nbconvert_exporter": "python",
   "pygments_lexer": "ipython3",
   "version": "3.10.11"
  },
  "vscode": {
   "interpreter": {
    "hash": "949777d72b0d2535278d3dc13498b2535136f6dfe0678499012e853ee9abcab1"
   }
  }
 },
 "nbformat": 4,
 "nbformat_minor": 5
}
