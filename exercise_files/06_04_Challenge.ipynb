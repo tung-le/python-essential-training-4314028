{
 "cells": [
  {
   "cell_type": "markdown",
   "id": "6aa3058e",
   "metadata": {},
   "source": [
    "## Can You Hear Me Now?\n",
    "\n",
    "Create a function \"getWithRetry\" that calls a function until it receives response that is not None, and then returns that response. If it continues to get no response, it should give up after a certain number of tries (to be decided by you) \n",
    "\n",
    "After filling out the \"getWithRetry\" function, run all of the cells in this notebook in order to test the following scenarios:\n",
    "- All services are up\n",
    "- All services are down\n",
    "- All services are down and making a request takes 0.1 seconds to execute\n",
    "\n",
    "What is the ideal number of retries before giving up? How do you know whether the service is down or you're just unlucky?"
   ]
  },
  {
   "cell_type": "code",
   "execution_count": 4,
   "id": "52439a5a",
   "metadata": {},
   "outputs": [],
   "source": [
    "import random\n",
    "import time"
   ]
  },
  {
   "cell_type": "code",
   "execution_count": 90,
   "id": "01d1f0d6",
   "metadata": {},
   "outputs": [],
   "source": [
    "servicesAreUp = True\n",
    "\n",
    "def getData50():\n",
    "    if servicesAreUp and random.random() < 0.5:\n",
    "        return 'You got the data! That only happens 50% of the time!'\n",
    "\n",
    "def getData25():\n",
    "    if servicesAreUp and random.random() < 0.25:\n",
    "        return 'You got the data! That only happens 25% of the time!'    \n",
    "\n",
    "def getData10():\n",
    "    if servicesAreUp and random.random() < 0.1:\n",
    "        return 'You got the data! That only happens 10% of the time!'"
   ]
  },
  {
   "cell_type": "code",
   "execution_count": 91,
   "id": "0994b5f1",
   "metadata": {},
   "outputs": [],
   "source": [
    "# Your code here!\n",
    "def getWithRetry(dataFunc):\n",
    "    num_tries = 1000\n",
    "    if servicesAreUp:\n",
    "        for num in range(1,num_tries):\n",
    "            printable = dataFunc()\n",
    "            if printable != None:\n",
    "                return printable\n",
    "            else:\n",
    "                #time.sleep(0.1)\n",
    "                print(f'Tried {num} times')\n",
    "                continue\n",
    "    else:\n",
    "        print('None')"
   ]
  },
  {
   "cell_type": "code",
   "execution_count": 92,
   "id": "84eb11cb",
   "metadata": {},
   "outputs": [
    {
     "name": "stdout",
     "output_type": "stream",
     "text": [
      "Tried 1 times\n"
     ]
    },
    {
     "data": {
      "text/plain": [
       "'You got the data! That only happens 50% of the time!'"
      ]
     },
     "execution_count": 92,
     "metadata": {},
     "output_type": "execute_result"
    }
   ],
   "source": [
    "# Should return 'You got the data! That only happens 50% of the time!'\n",
    "getWithRetry(getData50)"
   ]
  },
  {
   "cell_type": "code",
   "execution_count": 93,
   "id": "fd803ca8",
   "metadata": {},
   "outputs": [
    {
     "data": {
      "text/plain": [
       "'You got the data! That only happens 25% of the time!'"
      ]
     },
     "execution_count": 93,
     "metadata": {},
     "output_type": "execute_result"
    }
   ],
   "source": [
    "# Should return 'You got the data! That only happens 25% of the time!'\n",
    "getWithRetry(getData25)"
   ]
  },
  {
   "cell_type": "code",
   "execution_count": 94,
   "id": "5732135e",
   "metadata": {},
   "outputs": [
    {
     "name": "stdout",
     "output_type": "stream",
     "text": [
      "Tried 1 times\n",
      "Tried 2 times\n",
      "Tried 3 times\n",
      "Tried 4 times\n",
      "Tried 5 times\n",
      "Tried 6 times\n",
      "Tried 7 times\n",
      "Tried 8 times\n",
      "Tried 9 times\n",
      "Tried 10 times\n",
      "Tried 11 times\n",
      "Tried 12 times\n",
      "Tried 13 times\n",
      "Tried 14 times\n",
      "Tried 15 times\n",
      "Tried 16 times\n",
      "Tried 17 times\n",
      "Tried 18 times\n",
      "Tried 19 times\n",
      "Tried 20 times\n",
      "Tried 21 times\n",
      "Tried 22 times\n",
      "Tried 23 times\n",
      "Tried 24 times\n",
      "Tried 25 times\n",
      "Tried 26 times\n",
      "Tried 27 times\n",
      "Tried 28 times\n",
      "Tried 29 times\n",
      "Tried 30 times\n",
      "Tried 31 times\n",
      "Tried 32 times\n",
      "Tried 33 times\n",
      "Tried 34 times\n",
      "Tried 35 times\n",
      "Tried 36 times\n",
      "Tried 37 times\n"
     ]
    },
    {
     "data": {
      "text/plain": [
       "'You got the data! That only happens 10% of the time!'"
      ]
     },
     "execution_count": 94,
     "metadata": {},
     "output_type": "execute_result"
    }
   ],
   "source": [
    "# Should return 'You got the data! That only happens 10% of the time!'\n",
    "getWithRetry(getData10)"
   ]
  },
  {
   "cell_type": "code",
   "execution_count": 95,
   "id": "c8ee2bd0",
   "metadata": {},
   "outputs": [],
   "source": [
    "servicesAreUp = False"
   ]
  },
  {
   "cell_type": "code",
   "execution_count": 96,
   "id": "961a60ea",
   "metadata": {},
   "outputs": [
    {
     "name": "stdout",
     "output_type": "stream",
     "text": [
      "None\n"
     ]
    }
   ],
   "source": [
    "# Returns None\n",
    "getWithRetry(getData50)"
   ]
  },
  {
   "cell_type": "code",
   "execution_count": 97,
   "id": "b009f04c",
   "metadata": {},
   "outputs": [
    {
     "name": "stdout",
     "output_type": "stream",
     "text": [
      "None\n"
     ]
    }
   ],
   "source": [
    "# Returns None\n",
    "getWithRetry(getData25)"
   ]
  },
  {
   "cell_type": "code",
   "execution_count": 98,
   "id": "a4b67294",
   "metadata": {},
   "outputs": [
    {
     "name": "stdout",
     "output_type": "stream",
     "text": [
      "None\n"
     ]
    }
   ],
   "source": [
    "# Returns None\n",
    "getWithRetry(getData10)"
   ]
  },
  {
   "cell_type": "code",
   "execution_count": 99,
   "id": "2ac6e378",
   "metadata": {},
   "outputs": [],
   "source": [
    "def getData50():\n",
    "    time.sleep(.1)\n",
    "    if servicesAreUp and random.random() < 0.5:\n",
    "        return 'You got the data! That only happens 50% of the time!'\n",
    "\n",
    "def getData25():\n",
    "    time.sleep(.1)\n",
    "    if servicesAreUp and random.random() < 0.25:\n",
    "        return 'You got the data! That only happens 25% of the time!'    \n",
    "\n",
    "def getData10():\n",
    "    time.sleep(.1)\n",
    "    if servicesAreUp and random.random() < 0.1:\n",
    "        return 'You got the data! That only happens 10% of the time!'"
   ]
  },
  {
   "cell_type": "code",
   "execution_count": 100,
   "id": "3f96192e",
   "metadata": {},
   "outputs": [
    {
     "name": "stdout",
     "output_type": "stream",
     "text": [
      "None\n"
     ]
    }
   ],
   "source": [
    "# Returns None\n",
    "getWithRetry(getData50)"
   ]
  },
  {
   "cell_type": "code",
   "execution_count": 101,
   "id": "993f2d05",
   "metadata": {},
   "outputs": [
    {
     "name": "stdout",
     "output_type": "stream",
     "text": [
      "None\n"
     ]
    }
   ],
   "source": [
    "getWithRetry(getData25)"
   ]
  },
  {
   "cell_type": "code",
   "execution_count": 102,
   "id": "b5a44926",
   "metadata": {},
   "outputs": [
    {
     "name": "stdout",
     "output_type": "stream",
     "text": [
      "None\n"
     ]
    }
   ],
   "source": [
    "getWithRetry(getData10)"
   ]
  },
  {
   "cell_type": "code",
   "execution_count": null,
   "id": "5137b2b5",
   "metadata": {},
   "outputs": [],
   "source": []
  }
 ],
 "metadata": {
  "kernelspec": {
   "display_name": "Python 3 (ipykernel)",
   "language": "python",
   "name": "python3"
  },
  "language_info": {
   "codemirror_mode": {
    "name": "ipython",
    "version": 3
   },
   "file_extension": ".py",
   "mimetype": "text/x-python",
   "name": "python",
   "nbconvert_exporter": "python",
   "pygments_lexer": "ipython3",
   "version": "3.10.11"
  },
  "vscode": {
   "interpreter": {
    "hash": "949777d72b0d2535278d3dc13498b2535136f6dfe0678499012e853ee9abcab1"
   }
  }
 },
 "nbformat": 4,
 "nbformat_minor": 5
}
